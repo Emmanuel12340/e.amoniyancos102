{
 "cells": [
  {
   "cell_type": "code",
   "execution_count": 9,
   "metadata": {},
   "outputs": [
    {
     "name": "stdout",
     "output_type": "stream",
     "text": [
      "Equation Solver\n",
      "Currently supports only Quadratic equations (Ax² + Bx + C = 0)\n",
      "The roots of the equation are: (-1.5857864376269049, -4.414213562373095)\n"
     ]
    }
   ],
   "source": [
    "import math\n",
    "\n",
    "def solve_quadratic(a, b, c):\n",
    "    \"\"\"Solves a quadratic equation Ax^2 + Bx + C = 0 using the quadratic formula.\"\"\"\n",
    "    discriminant = b**2 - 4*a*c\n",
    "    if discriminant > 0:\n",
    "        root1 = (-b + math.sqrt(discriminant)) / (2*a)\n",
    "        root2 = (-b - math.sqrt(discriminant)) / (2*a)\n",
    "        return root1, root2\n",
    "    elif discriminant == 0:\n",
    "        root = -b / (2*a)\n",
    "        return root,\n",
    "    else:\n",
    "        return \"Complex roots\"\n",
    "\n",
    "def main():\n",
    "    \"\"\"Main function to interact with the user.\"\"\"\n",
    "    print(\"Equation Solver\")\n",
    "    print(\"Currently supports only Quadratic equations (Ax² + Bx + C = 0)\")\n",
    "    \n",
    "    a = float(input(\"Enter coefficient A: \"))\n",
    "    b = float(input(\"Enter coefficient B: \"))\n",
    "    c = float(input(\"Enter coefficient C: \"))\n",
    "    \n",
    "    if a == 0:\n",
    "        print(\"Coefficient A cannot be zero for a quadratic equation.\")\n",
    "        return\n",
    "    \n",
    "    roots = solve_quadratic(a, b, c)\n",
    "    print(\"The roots of the equation are:\", roots)\n",
    "\n",
    "if __name__ == \"__main__\":\n",
    "    main()\n"
   ]
  }
 ],
 "metadata": {
  "kernelspec": {
   "display_name": "Python 3",
   "language": "python",
   "name": "python3"
  },
  "language_info": {
   "codemirror_mode": {
    "name": "ipython",
    "version": 3
   },
   "file_extension": ".py",
   "mimetype": "text/x-python",
   "name": "python",
   "nbconvert_exporter": "python",
   "pygments_lexer": "ipython3",
   "version": "3.13.2"
  }
 },
 "nbformat": 4,
 "nbformat_minor": 2
}
