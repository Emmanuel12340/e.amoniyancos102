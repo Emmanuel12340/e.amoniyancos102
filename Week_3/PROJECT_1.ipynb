{
 "cells": [
  {
   "cell_type": "code",
   "execution_count": 1,
   "metadata": {},
   "outputs": [
    {
     "name": "stdout",
     "output_type": "stream",
     "text": [
      "\n",
      "Girls Data\n",
      "----------------------------------------\n",
      "Name      Age  Height Score\n",
      "----------------------------------------\n",
      "Evelyn    17   5.5    80   \n",
      "Jessica   16   6.0    85   \n",
      "Somto     17   5.4    70   \n",
      "Edith     18   5.9    60   \n",
      "Liza      16   5.6    76   \n",
      "Madonna   18   5.5    66   \n",
      "Waje      17   6.1    87   \n",
      "Tola      20   6.0    95   \n",
      "Aisha     19   5.7    50   \n",
      "Latifa    17   5.5    49   \n",
      "----------------------------------------\n",
      "\n",
      "Boys Data\n",
      "----------------------------------------\n",
      "Name      Age  Height Score\n",
      "----------------------------------------\n",
      "Chinedu   19   5.7    74   \n",
      "Liam      16   5.9    87   \n",
      "Wale      18   5.8    75   \n",
      "Gbenga    17   6.1    68   \n",
      "Abiola    20   5.9    66   \n",
      "Kola      19   5.5    78   \n",
      "Kunle     16   6.1    87   \n",
      "George    18   5.4    98   \n",
      "Thomas    17   5.8    54   \n",
      "Wesley    19   5.7    60   \n",
      "----------------------------------------\n"
     ]
    }
   ],
   "source": [
    "girls_data = [\n",
    "    {\"Name\": \"Evelyn\", \"Age\": 17, \"Height\": 5.5, \"Score\": 80},\n",
    "    {\"Name\": \"Jessica\", \"Height\": 6.0, \"Age\": 16, \"Score\": 85},\n",
    "    {\"Name\": \"Somto\", \"Age\": 17, \"Height\": 5.4, \"Score\": 70},\n",
    "    {\"Name\": \"Edith\", \"Age\": 18, \"Height\": 5.9, \"Score\": 60},\n",
    "    {\"Name\": \"Liza\", \"Age\": 16, \"Height\": 5.6, \"Score\": 76},\n",
    "    {\"Name\": \"Madonna\", \"Age\": 18, \"Height\": 5.5, \"Score\": 66},\n",
    "    {\"Name\": \"Waje\", \"Age\": 17, \"Height\": 6.1, \"Score\": 87},\n",
    "    {\"Name\": \"Tola\", \"Age\": 20, \"Height\": 6.0, \"Score\": 95},\n",
    "    {\"Name\": \"Aisha\", \"Age\": 19, \"Height\": 5.7, \"Score\": 50},\n",
    "    {\"Name\": \"Latifa\", \"Age\": 17, \"Height\": 5.5, \"Score\": 49},\n",
    "]\n",
    "\n",
    "boys_data = [\n",
    "    {\"Name\": \"Chinedu\", \"Age\": 19, \"Height\": 5.7, \"Score\": 74},\n",
    "    {\"Name\": \"Liam\", \"Age\": 16, \"Height\": 5.9, \"Score\": 87},\n",
    "    {\"Name\": \"Wale\", \"Age\": 18, \"Height\": 5.8, \"Score\": 75},\n",
    "    {\"Name\": \"Gbenga\", \"Age\": 17, \"Height\": 6.1, \"Score\": 68},\n",
    "    {\"Name\": \"Abiola\", \"Age\": 20, \"Height\": 5.9, \"Score\": 66},\n",
    "    {\"Name\": \"Kola\", \"Age\": 19, \"Height\": 5.5, \"Score\": 78},\n",
    "    {\"Name\": \"Kunle\", \"Age\": 16, \"Height\": 6.1, \"Score\": 87},\n",
    "    {\"Name\": \"George\", \"Age\": 18, \"Height\": 5.4, \"Score\": 98},\n",
    "    {\"Name\": \"Thomas\", \"Age\": 17, \"Height\": 5.8, \"Score\": 54},\n",
    "    {\"Name\": \"Wesley\", \"Age\": 19, \"Height\": 5.7, \"Score\": 60},\n",
    "]\n",
    "\n",
    "def display_table(data, title):\n",
    "    print(f\"\\n{title}\")\n",
    "    print(\"-\" * 40)\n",
    "    print(f\"{'Name':<10}{'Age':<5}{'Height':<7}{'Score':<5}\")\n",
    "    print(\"-\" * 40)\n",
    "    for entry in data:\n",
    "        print(f\"{entry['Name']:<10}{entry['Age']:<5}{entry['Height']:<7}{entry['Score']:<5}\")\n",
    "    print(\"-\" * 40)\n",
    "\n",
    "\n",
    "display_table(girls_data, \"Girls Data\")\n",
    "display_table(boys_data, \"Boys Data\")"
   ]
  }
 ],
 "metadata": {
  "kernelspec": {
   "display_name": "Python 3",
   "language": "python",
   "name": "python3"
  },
  "language_info": {
   "codemirror_mode": {
    "name": "ipython",
    "version": 3
   },
   "file_extension": ".py",
   "mimetype": "text/x-python",
   "name": "python",
   "nbconvert_exporter": "python",
   "pygments_lexer": "ipython3",
   "version": "3.13.2"
  }
 },
 "nbformat": 4,
 "nbformat_minor": 2
}
