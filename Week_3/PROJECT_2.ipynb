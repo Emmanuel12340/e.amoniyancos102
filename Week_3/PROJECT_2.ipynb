{
 "cells": [
  {
   "cell_type": "code",
   "execution_count": 5,
   "metadata": {},
   "outputs": [
    {
     "name": "stdout",
     "output_type": "stream",
     "text": [
      "The Annual Tax Revenue (ATR) is: NGN 10000000.00\n"
     ]
    }
   ],
   "source": [
    "def calculate_tax(age, experience, salary):\n",
    "    if age < 30 and experience < 5:\n",
    "        tax_rate = 0.1 \n",
    "    elif age >= 30 and experience >= 5:\n",
    "        tax_rate = 0.2  \n",
    "    else:\n",
    "        tax_rate = 0.15  \n",
    "    \n",
    "    annual_tax_revenue = salary * tax_rate\n",
    "    return annual_tax_revenue\n",
    "\n",
    "\n",
    "try:\n",
    "    age = int(input(\"Enter the employee's age: \"))\n",
    "    experience = int(input(\"Enter the years of experience: \"))\n",
    "    salary = float(input(\"Enter the annual salary (NGN): \"))\n",
    "    \n",
    "    tax = calculate_tax(age, experience, salary)\n",
    "    print(f\"The Annual Tax Revenue (ATR) is: NGN {tax:.2f}\")\n",
    "except ValueError: \n",
    "    print(\"Please enter valid numbers for age, experience, and salary.\")"
   ]
  }
 ],
 "metadata": {
  "kernelspec": {
   "display_name": "Python 3",
   "language": "python",
   "name": "python3"
  },
  "language_info": {
   "codemirror_mode": {
    "name": "ipython",
    "version": 3
   },
   "file_extension": ".py",
   "mimetype": "text/x-python",
   "name": "python",
   "nbconvert_exporter": "python",
   "pygments_lexer": "ipython3",
   "version": "3.13.2"
  }
 },
 "nbformat": 4,
 "nbformat_minor": 2
}
