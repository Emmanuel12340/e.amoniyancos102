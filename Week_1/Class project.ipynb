{
 "cells": [
  {
   "cell_type": "code",
   "execution_count": null,
   "id": "22c029ae-5866-412b-9b3b-59cf3a87b146",
   "metadata": {},
   "outputs": [
    {
     "name": "stdout",
     "output_type": "stream",
     "text": [
      "Select the calculation type:\n",
      "1: Simple Interest\n",
      "2: Compound Interest\n",
      "3: Annuity Plan\n",
      "Annuity Plan Amount: 12141069.293989262\n"
     ]
    },
    {
     "ename": "",
     "evalue": "",
     "output_type": "error",
     "traceback": [
      "\u001b[1;31mThe Kernel crashed while executing code in the current cell or a previous cell. \n",
      "\u001b[1;31mPlease review the code in the cell(s) to identify a possible cause of the failure. \n",
      "\u001b[1;31mClick <a href='https://aka.ms/vscodeJupyterKernelCrash'>here</a> for more info. \n",
      "\u001b[1;31mView Jupyter <a href='command:jupyter.viewOutput'>log</a> for further details."
     ]
    }
   ],
   "source": [
    "def simple_interest(P, R, T):\n",
    "    return P * (1 + (R / 100) * T)\n",
    "\n",
    "def compound_interest(P, R, n, t):\n",
    "    return P * (1 + R / n) ** (n * t)\n",
    "\n",
    "def annuity_plan(PMT, R, n, t):\n",
    "    return PMT * (((1 + R / n) ** (n * t) - 1) / (R / n))\n",
    "\n",
    "# User input\n",
    "print(\"Select the calculation type:\")\n",
    "print(\"1: Simple Interest\")\n",
    "print(\"2: Compound Interest\")\n",
    "print(\"3: Annuity Plan\")\n",
    "choice = int(input(\"Enter your choice (1/2/3): \"))\n",
    "\n",
    "if choice == 1:\n",
    "    P = float(input(\"Enter Principal Amount: \"))\n",
    "    R = float(input(\"Enter Annual Interest Rate (%): \"))\n",
    "    T = float(input(\"Enter Time (in years): \"))\n",
    "    print(\"Simple Interest Amount:\", simple_interest(P, R, T))\n",
    "\n",
    "elif choice == 2:\n",
    "    P = float(input(\"Enter Principal Amount: \"))\n",
    "    R = float(input(\"Enter Annual Interest Rate (%): \")) / 100  # Convert to decimal\n",
    "    n = int(input(\"Enter Number of Times Interest is Compounded per Year: \"))\n",
    "    t = float(input(\"Enter Time (in years): \"))\n",
    "    print(\"Compound Interest Amount:\", compound_interest(P, R, n, t))\n",
    "\n",
    "elif choice == 3:\n",
    "    PMT = float(input(\"Enter Annuity Payment per Period: \"))\n",
    "    R = float(input(\"Enter Annual Interest Rate (%): \")) / 100  # Convert to decimal\n",
    "    n = int(input(\"Enter Number of Times Interest is Compounded per Year: \"))\n",
    "    t = float(input(\"Enter Time (in years): \"))\n",
    "    print(\"Annuity Plan Amount:\", annuity_plan(PMT, R, n, t))\n",
    "\n",
    "else:\n",
    "    print(\"Invalid choice! Please select 1, 2, or 3.\")\n"
   ]
  }
 ],
 "metadata": {
  "kernelspec": {
   "display_name": "Python 3",
   "language": "python",
   "name": "python3"
  },
  "language_info": {
   "codemirror_mode": {
    "name": "ipython",
    "version": 3
   },
   "file_extension": ".py",
   "mimetype": "text/x-python",
   "name": "python",
   "nbconvert_exporter": "python",
   "pygments_lexer": "ipython3",
   "version": "3.13.2"
  }
 },
 "nbformat": 4,
 "nbformat_minor": 5
}
