{
 "cells": [
  {
   "cell_type": "code",
   "execution_count": 2,
   "id": "6f5a5c75",
   "metadata": {},
   "outputs": [],
   "source": [
    "import tkinter as tk\n",
    "from tkinter import messagebox\n",
    "def button_click():\n",
    "    messagebox.showinfo(\"Info\",\"Welcome to COS 102 GUI App!\\n\")\n",
    "    result= messagebox.askyesno(\"Confirmation\",\"Do you want to continue?\\n\")\n",
    "\n",
    "root = tk.Tk()\n",
    "root.title(\"Home Page\")\n",
    "root.geometry(\"300x100\")\n",
    "\n",
    "label=tk.Label(root,text=\"Hello Friend\\n\")\n",
    "label.pack()\n",
    "\n",
    "button = tk.Button(root, text=\"Helloo Friend \\n\")\n",
    "\n",
    "button = tk.Button(root, text=\"Click Me!\" , command= button_click)\n",
    "button.pack()\n",
    "\n",
    "button.config(fg=\"red\",bg=\"yellow\")\n",
    "\n",
    "root.mainloop()"
   ]
  },
  {
   "cell_type": "code",
   "execution_count": 9,
   "id": "7452d6f3",
   "metadata": {},
   "outputs": [],
   "source": [
    "import tkinter as tk\n",
    "from tkinter import messagebox\n",
    "\n",
    "\n",
    "def welcomeMessage(username):\n",
    "    messagebox.showinfo(\"Welcome\", f\"Welcome, {username}!\")\n",
    "   \n",
    "\n",
    "\n",
    "def submit(): \n",
    "    username = username_entry.get()\n",
    "    password = password_entry.get()\n",
    "\n",
    "    if username == \"Mary\" and password==\"cos102\":\n",
    "        welcomeMessage(username)\n",
    "    else:\n",
    "        messagebox.showerror(\"Login\", \"Invalid username or password\")\n",
    "\n",
    "window = tk.Toplevel()  \n",
    "window.title(\"Admin Box\")\n",
    "window.geometry(\"500x200\")\n",
    "\n",
    "label_1 = tk.Label(window, text=\"Welcome!\\n\")  # Placeholder text until username is set\n",
    "label_1.pack()\n",
    "label_2 = tk.Label(window, text=\"This is Python GUI with Tkinter\")\n",
    "label_2.pack()\n",
    "    \n",
    "root.mainloop()\n"
   ]
  },
  {
   "cell_type": "code",
   "execution_count": 10,
   "id": "1ae49bda",
   "metadata": {},
   "outputs": [],
   "source": [
    "import tkinter as tk\n",
    "from tkinter import messagebox\n",
    "\n",
    "def button_click():\n",
    "    messagebox.showinfo(\"Info\", \"Welcome to COS 102 GUI App!\\n\")\n",
    "    result = messagebox.askyesno(\"Confirmation\", \"Do you want to continue?\\n\")\n",
    "\n",
    "root = tk.Tk()\n",
    "root.title(\"Home Page\")\n",
    "root.geometry(\"300x100\")\n",
    "\n",
    "label = tk.Label(root, text=\"Hello Friend\\n\")\n",
    "label.pack()\n",
    "\n",
    "button = tk.Button(root, text=\"Click Me!\", command=button_click)\n",
    "button.pack()\n",
    "\n",
    "button.config(fg=\"red\", bg=\"yellow\")\n",
    "\n",
    "root.mainloop()\n"
   ]
  }
 ],
 "metadata": {
  "kernelspec": {
   "display_name": "Python 3",
   "language": "python",
   "name": "python3"
  },
  "language_info": {
   "codemirror_mode": {
    "name": "ipython",
    "version": 3
   },
   "file_extension": ".py",
   "mimetype": "text/x-python",
   "name": "python",
   "nbconvert_exporter": "python",
   "pygments_lexer": "ipython3",
   "version": "3.13.2"
  }
 },
 "nbformat": 4,
 "nbformat_minor": 5
}
